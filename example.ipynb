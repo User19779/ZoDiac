{
 "cells": [
  {
   "cell_type": "code",
   "execution_count": 1,
   "id": "8af4ab9a-a26c-4f4c-aab8-9b4e6a60c779",
   "metadata": {},
   "outputs": [],
   "source": [
    "import argparse\n",
    "import yaml\n",
    "import os\n",
    "import logging\n",
    "import shutil\n",
    "import numpy as np\n",
    "from PIL import Image \n",
    "logger = logging.getLogger()\n",
    "handler = logging.StreamHandler()\n",
    "handler.setLevel(logging.INFO)\n",
    "logger.addHandler(handler)\n",
    "\n",
    "import torch\n",
    "import torch.optim as optim\n",
    "import torchvision.transforms as transforms\n",
    "from diffusers import DDIMScheduler\n",
    "from datasets import load_dataset\n",
    "from diffusers.utils.torch_utils import randn_tensor\n",
    "\n",
    "from main.wmdiffusion import WMDetectStableDiffusionPipeline\n",
    "from main.wmpatch import GTWatermark, GTWatermarkMulti\n",
    "from main.utils import *\n",
    "from loss.loss import LossProvider\n",
    "from loss.pytorch_ssim import ssim\n"
   ]
  },
  {
   "cell_type": "markdown",
   "id": "2748227d-8820-40f5-a794-014d62e3652c",
   "metadata": {},
   "source": [
    "## Necessary Setup for All Sections"
   ]
  },
  {
   "cell_type": "code",
   "execution_count": 2,
   "id": "9708dfcc-8389-42cd-bd52-261809b338c7",
   "metadata": {},
   "outputs": [
    {
     "name": "stderr",
     "output_type": "stream",
     "text": [
      "===== Load Config =====\n",
      "{'method': 'ZoDiac', 'save_img': './example/output/', 'model_id': './stable-diffusion-2-1-base', 'gen_seed': 0, 'empty_prompt': True, 'w_type': 'single', 'w_channel': 3, 'w_radius': 10, 'w_seed': 10, 'start_latents': 'init_w', 'iters': 100, 'save_iters': [100], 'loss_weights': [10.0, 0.1, 1.0, 0.0], 'ssim_threshold': 0.92, 'detect_threshold': 0.9}\n",
      "{'method': 'ZoDiac', 'save_img': './example/output/', 'model_id': './stable-diffusion-2-1-base', 'gen_seed': 0, 'empty_prompt': True, 'w_type': 'single', 'w_channel': 3, 'w_radius': 10, 'w_seed': 10, 'start_latents': 'init_w', 'iters': 100, 'save_iters': [100], 'loss_weights': [10.0, 0.1, 1.0, 0.0], 'ssim_threshold': 0.92, 'detect_threshold': 0.9}\n"
     ]
    }
   ],
   "source": [
    "logging.info(f'===== Load Config =====')\n",
    "device = torch.device('cuda')\n",
    "with open('./example/config/config.yaml', 'r') as file:\n",
    "    cfgs = yaml.safe_load(file)\n",
    "logging.info(cfgs)\n"
   ]
  },
  {
   "cell_type": "code",
   "execution_count": 3,
   "id": "accc6ac2-9055-4237-877e-9276f91da074",
   "metadata": {},
   "outputs": [
    {
     "name": "stderr",
     "output_type": "stream",
     "text": [
      "===== Init Pipeline =====\n"
     ]
    },
    {
     "data": {
      "application/vnd.jupyter.widget-view+json": {
       "model_id": "b5ea15aa589a40ef892750032986aa17",
       "version_major": 2,
       "version_minor": 0
      },
      "text/plain": [
       "Loading pipeline components...:   0%|          | 0/6 [00:00<?, ?it/s]"
      ]
     },
     "metadata": {},
     "output_type": "display_data"
    }
   ],
   "source": [
    "logging.info(f'===== Init Pipeline =====')\n",
    "if cfgs['w_type'] == 'single':\n",
    "    wm_pipe = GTWatermark(device, w_channel=cfgs['w_channel'], w_radius=cfgs['w_radius'], generator=torch.Generator(device).manual_seed(cfgs['w_seed']))\n",
    "elif cfgs['w_type'] == 'multi':\n",
    "    wm_pipe = GTWatermarkMulti(device, w_settings=cfgs['w_settings'], generator=torch.Generator(device).manual_seed(cfgs['w_seed']))\n",
    "\n",
    "\n",
    "mirror_url = 'https://mirrors.tuna.tsinghua.edu.cn/hugging-face'\n",
    "scheduler = DDIMScheduler.from_pretrained(\n",
    "    cfgs['model_id'], subfolder=\"scheduler\",)\n",
    "\n",
    "pipe = WMDetectStableDiffusionPipeline.from_pretrained(cfgs['model_id'], scheduler=scheduler).to(device)\n",
    "pipe.set_progress_bar_config(disable=True)\n"
   ]
  },
  {
   "cell_type": "code",
   "execution_count": 4,
   "id": "f44fa9d0-13b2-4a76-a839-56720c73b9db",
   "metadata": {},
   "outputs": [],
   "source": [
    "imagename = 'pepper.tiff'\n",
    "gt_img_tensor = get_img_tensor(f'./example/input/{imagename}', device)\n",
    "wm_path = cfgs['save_img']\n"
   ]
  },
  {
   "cell_type": "markdown",
   "id": "420e6ef3-2834-488c-a438-c85bd4c6d7cd",
   "metadata": {
    "tags": []
   },
   "source": [
    "## Image Watermarking"
   ]
  },
  {
   "cell_type": "code",
   "execution_count": 5,
   "id": "ef73c981-a5a2-46e1-9447-fb3dd718177e",
   "metadata": {},
   "outputs": [],
   "source": [
    "# Step 1: Get init noise\n",
    "def get_init_latent(img_tensor, pipe, text_embeddings, guidance_scale=1.0):\n",
    "    # DDIM inversion from the given image\n",
    "    img_latents = pipe.get_image_latents(img_tensor, sample=False)\n",
    "    reversed_latents = pipe.forward_diffusion(\n",
    "        latents=img_latents,\n",
    "        text_embeddings=text_embeddings,\n",
    "        guidance_scale=guidance_scale,\n",
    "        num_inference_steps=50,\n",
    "    )\n",
    "    return reversed_latents\n",
    "\n",
    "empty_text_embeddings = pipe.get_text_embedding('')\n",
    "init_latents_approx = get_init_latent(gt_img_tensor, pipe, empty_text_embeddings)\n"
   ]
  },
  {
   "cell_type": "code",
   "execution_count": 6,
   "id": "9967e88e",
   "metadata": {},
   "outputs": [
    {
     "data": {
      "text/plain": [
       "torch.Size([1, 4, 64, 64])"
      ]
     },
     "execution_count": 6,
     "metadata": {},
     "output_type": "execute_result"
    }
   ],
   "source": [
    "init_latents_approx.shape\n"
   ]
  },
  {
   "cell_type": "code",
   "execution_count": 7,
   "id": "914c7cd2-65bc-40e3-8708-d32fdf8eb6ca",
   "metadata": {},
   "outputs": [
    {
     "name": "stderr",
     "output_type": "stream",
     "text": [
      "/datadisk/zhengliwei/.conda/envs/zodiac_zlw/lib/python3.10/site-packages/torchvision/models/_utils.py:208: UserWarning: The parameter 'pretrained' is deprecated since 0.13 and may be removed in the future, please use 'weights' instead.\n",
      "  warnings.warn(\n",
      "/datadisk/zhengliwei/.conda/envs/zodiac_zlw/lib/python3.10/site-packages/torchvision/models/_utils.py:223: UserWarning: Arguments other than a weight enum or `None` for 'weights' are deprecated since 0.13 and may be removed in the future. The current behavior is equivalent to passing `weights=VGG16_Weights.IMAGENET1K_V1`. You can also use `weights=VGG16_Weights.DEFAULT` to get the most up-to-date weights.\n",
      "  warnings.warn(msg)\n"
     ]
    }
   ],
   "source": [
    "# Step 2: prepare training\n",
    "init_latents = init_latents_approx.detach().clone()\n",
    "init_latents.requires_grad = True\n",
    "optimizer = optim.Adam([init_latents], lr=0.01)\n",
    "scheduler = optim.lr_scheduler.MultiStepLR(optimizer, milestones=[30,80], gamma=0.3) \n",
    "\n",
    "totalLoss = LossProvider(cfgs['loss_weights'], device)\n",
    "loss_lst = [] \n"
   ]
  },
  {
   "cell_type": "code",
   "execution_count": 8,
   "id": "c5b6ab2f-eade-4819-8f7f-220d58930919",
   "metadata": {
    "scrolled": true,
    "tags": []
   },
   "outputs": [
    {
     "name": "stderr",
     "output_type": "stream",
     "text": [
      "iter 0:\n",
      "/datadisk/zhengliwei/projects/ZoDiac/main/wmdiffusion.py:198: FutureWarning: Accessing config attribute `in_channels` directly via 'UNet2DConditionModel' object attribute is deprecated. Please access 'in_channels' over 'UNet2DConditionModel's config object instead, e.g. 'unet.config.in_channels'.\n",
      "  num_channels_latents = self.unet.in_channels\n",
      "/datadisk/zhengliwei/.conda/envs/zodiac_zlw/lib/python3.10/site-packages/torch/_dynamo/eval_frame.py:600: UserWarning: torch.utils.checkpoint: the use_reentrant parameter should be passed explicitly. In version 2.4 we will raise an exception if use_reentrant is not passed. use_reentrant=False is recommended, but if you need to preserve the current default behavior, you can pass use_reentrant=True. Refer to docs for more details on the differences between the two variants.\n",
      "  return fn(*args, **kwargs)\n",
      "Watermark 0.0000, Image 0.5736, Perp 0.9297, SSIM 0.5659 Total Loss 2.0693\n",
      "iter 1:\n",
      "Watermark 0.0000, Image 0.4471, Perp 0.8590, SSIM 0.5185 Total Loss 1.8246\n",
      "iter 2:\n",
      "Watermark 0.0000, Image 0.3817, Perp 0.8207, SSIM 0.4934 Total Loss 1.6959\n",
      "iter 3:\n",
      "Watermark 0.0000, Image 0.3410, Perp 0.7919, SSIM 0.4757 Total Loss 1.6087\n",
      "iter 4:\n",
      "Watermark 0.0000, Image 0.3164, Perp 0.7841, SSIM 0.4719 Total Loss 1.5723\n",
      "iter 5:\n",
      "Watermark 0.0000, Image 0.2763, Perp 0.7416, SSIM 0.4475 Total Loss 1.4654\n",
      "iter 6:\n",
      "Watermark 0.0000, Image 0.2537, Perp 0.7475, SSIM 0.4428 Total Loss 1.4440\n",
      "iter 7:\n",
      "Watermark 0.0000, Image 0.2265, Perp 0.7281, SSIM 0.4271 Total Loss 1.3818\n",
      "iter 8:\n",
      "Watermark 0.0000, Image 0.1990, Perp 0.6842, SSIM 0.4063 Total Loss 1.2894\n",
      "iter 9:\n",
      "Watermark 0.0000, Image 0.1788, Perp 0.6421, SSIM 0.3894 Total Loss 1.2103\n",
      "iter 10:\n",
      "Watermark 0.0000, Image 0.1676, Perp 0.6189, SSIM 0.3806 Total Loss 1.1671\n",
      "iter 11:\n",
      "Watermark 0.0000, Image 0.1593, Perp 0.5990, SSIM 0.3744 Total Loss 1.1327\n",
      "iter 12:\n",
      "Watermark 0.0000, Image 0.1509, Perp 0.5782, SSIM 0.3684 Total Loss 1.0975\n",
      "iter 13:\n",
      "Watermark 0.0000, Image 0.1446, Perp 0.5646, SSIM 0.3647 Total Loss 1.0739\n",
      "iter 14:\n",
      "Watermark 0.0000, Image 0.1393, Perp 0.5501, SSIM 0.3613 Total Loss 1.0507\n",
      "iter 15:\n",
      "Watermark 0.0000, Image 0.1357, Perp 0.5460, SSIM 0.3596 Total Loss 1.0413\n",
      "iter 16:\n",
      "Watermark 0.0000, Image 0.1327, Perp 0.5403, SSIM 0.3575 Total Loss 1.0305\n",
      "iter 17:\n",
      "Watermark 0.0000, Image 0.1299, Perp 0.5331, SSIM 0.3549 Total Loss 1.0179\n",
      "iter 18:\n",
      "Watermark 0.0000, Image 0.1273, Perp 0.5249, SSIM 0.3522 Total Loss 1.0044\n",
      "iter 19:\n",
      "Watermark 0.0000, Image 0.1250, Perp 0.5151, SSIM 0.3493 Total Loss 0.9894\n",
      "iter 20:\n",
      "Watermark 0.0000, Image 0.1230, Perp 0.5059, SSIM 0.3468 Total Loss 0.9758\n",
      "iter 21:\n",
      "Watermark 0.0000, Image 0.1219, Perp 0.4959, SSIM 0.3450 Total Loss 0.9628\n",
      "iter 22:\n",
      "Watermark 0.0000, Image 0.1209, Perp 0.4874, SSIM 0.3442 Total Loss 0.9525\n",
      "iter 23:\n",
      "Watermark 0.0000, Image 0.1200, Perp 0.4796, SSIM 0.3438 Total Loss 0.9434\n",
      "iter 24:\n",
      "Watermark 0.0000, Image 0.1190, Perp 0.4745, SSIM 0.3433 Total Loss 0.9368\n",
      "iter 25:\n",
      "Watermark 0.0000, Image 0.1179, Perp 0.4698, SSIM 0.3429 Total Loss 0.9306\n",
      "iter 26:\n",
      "Watermark 0.0000, Image 0.1168, Perp 0.4649, SSIM 0.3423 Total Loss 0.9240\n",
      "iter 27:\n",
      "Watermark 0.0000, Image 0.1158, Perp 0.4599, SSIM 0.3419 Total Loss 0.9177\n",
      "iter 28:\n",
      "Watermark 0.0000, Image 0.1151, Perp 0.4548, SSIM 0.3418 Total Loss 0.9116\n",
      "iter 29:\n",
      "Watermark 0.0000, Image 0.1147, Perp 0.4505, SSIM 0.3418 Total Loss 0.9070\n",
      "iter 30:\n",
      "Watermark 0.0000, Image 0.1147, Perp 0.4479, SSIM 0.3423 Total Loss 0.9050\n",
      "iter 31:\n",
      "Watermark 0.0000, Image 0.1148, Perp 0.4469, SSIM 0.3424 Total Loss 0.9041\n",
      "iter 32:\n",
      "Watermark 0.0000, Image 0.1147, Perp 0.4454, SSIM 0.3423 Total Loss 0.9025\n",
      "iter 33:\n",
      "Watermark 0.0000, Image 0.1146, Perp 0.4435, SSIM 0.3422 Total Loss 0.9003\n",
      "iter 34:\n",
      "Watermark 0.0000, Image 0.1145, Perp 0.4413, SSIM 0.3419 Total Loss 0.8978\n",
      "iter 35:\n",
      "Watermark 0.0000, Image 0.1143, Perp 0.4387, SSIM 0.3416 Total Loss 0.8947\n",
      "iter 36:\n",
      "Watermark 0.0000, Image 0.1140, Perp 0.4357, SSIM 0.3411 Total Loss 0.8909\n",
      "iter 37:\n",
      "Watermark 0.0000, Image 0.1137, Perp 0.4324, SSIM 0.3405 Total Loss 0.8867\n",
      "iter 38:\n",
      "Watermark 0.0000, Image 0.1133, Perp 0.4288, SSIM 0.3399 Total Loss 0.8819\n",
      "iter 39:\n",
      "Watermark 0.0000, Image 0.1128, Perp 0.4251, SSIM 0.3392 Total Loss 0.8770\n",
      "iter 40:\n",
      "Watermark 0.0000, Image 0.1123, Perp 0.4214, SSIM 0.3384 Total Loss 0.8721\n",
      "iter 41:\n",
      "Watermark 0.0000, Image 0.1119, Perp 0.4177, SSIM 0.3378 Total Loss 0.8673\n",
      "iter 42:\n",
      "Watermark 0.0000, Image 0.1114, Perp 0.4140, SSIM 0.3371 Total Loss 0.8624\n",
      "iter 43:\n",
      "Watermark 0.0000, Image 0.1109, Perp 0.4104, SSIM 0.3364 Total Loss 0.8577\n",
      "iter 44:\n",
      "Watermark 0.0000, Image 0.1106, Perp 0.4070, SSIM 0.3358 Total Loss 0.8534\n",
      "iter 45:\n",
      "Watermark 0.0000, Image 0.1102, Perp 0.4039, SSIM 0.3352 Total Loss 0.8493\n",
      "iter 46:\n",
      "Watermark 0.0000, Image 0.1099, Perp 0.4010, SSIM 0.3347 Total Loss 0.8456\n",
      "iter 47:\n",
      "Watermark 0.0000, Image 0.1096, Perp 0.3984, SSIM 0.3342 Total Loss 0.8422\n",
      "iter 48:\n",
      "Watermark 0.0000, Image 0.1093, Perp 0.3962, SSIM 0.3338 Total Loss 0.8393\n",
      "iter 49:\n",
      "Watermark 0.0000, Image 0.1091, Perp 0.3946, SSIM 0.3333 Total Loss 0.8370\n",
      "iter 50:\n",
      "Watermark 0.0000, Image 0.1090, Perp 0.3929, SSIM 0.3329 Total Loss 0.8348\n",
      "iter 51:\n",
      "Watermark 0.0000, Image 0.1089, Perp 0.3912, SSIM 0.3326 Total Loss 0.8326\n",
      "iter 52:\n",
      "Watermark 0.0000, Image 0.1088, Perp 0.3897, SSIM 0.3323 Total Loss 0.8308\n",
      "iter 53:\n",
      "Watermark 0.0000, Image 0.1088, Perp 0.3884, SSIM 0.3320 Total Loss 0.8292\n",
      "iter 54:\n",
      "Watermark 0.0000, Image 0.1088, Perp 0.3871, SSIM 0.3318 Total Loss 0.8277\n",
      "iter 55:\n",
      "Watermark 0.0000, Image 0.1088, Perp 0.3857, SSIM 0.3316 Total Loss 0.8261\n",
      "iter 56:\n",
      "Watermark 0.0000, Image 0.1089, Perp 0.3842, SSIM 0.3313 Total Loss 0.8245\n",
      "iter 57:\n",
      "Watermark 0.0000, Image 0.1089, Perp 0.3827, SSIM 0.3311 Total Loss 0.8228\n",
      "iter 58:\n",
      "Watermark 0.0000, Image 0.1090, Perp 0.3811, SSIM 0.3309 Total Loss 0.8210\n",
      "iter 59:\n",
      "Watermark 0.0000, Image 0.1090, Perp 0.3794, SSIM 0.3307 Total Loss 0.8192\n",
      "iter 60:\n",
      "Watermark 0.0000, Image 0.1091, Perp 0.3777, SSIM 0.3305 Total Loss 0.8173\n",
      "iter 61:\n",
      "Watermark 0.0000, Image 0.1091, Perp 0.3757, SSIM 0.3303 Total Loss 0.8152\n",
      "iter 62:\n",
      "Watermark 0.0000, Image 0.1092, Perp 0.3738, SSIM 0.3302 Total Loss 0.8132\n",
      "iter 63:\n",
      "Watermark 0.0000, Image 0.1092, Perp 0.3720, SSIM 0.3300 Total Loss 0.8112\n",
      "iter 64:\n",
      "Watermark 0.0000, Image 0.1093, Perp 0.3701, SSIM 0.3298 Total Loss 0.8092\n",
      "iter 65:\n",
      "Watermark 0.0000, Image 0.1093, Perp 0.3683, SSIM 0.3297 Total Loss 0.8073\n",
      "iter 66:\n",
      "Watermark 0.0000, Image 0.1093, Perp 0.3665, SSIM 0.3296 Total Loss 0.8054\n",
      "iter 67:\n",
      "Watermark 0.0000, Image 0.1093, Perp 0.3648, SSIM 0.3294 Total Loss 0.8036\n",
      "iter 68:\n",
      "Watermark 0.0000, Image 0.1093, Perp 0.3633, SSIM 0.3293 Total Loss 0.8019\n",
      "iter 69:\n",
      "Watermark 0.0000, Image 0.1094, Perp 0.3618, SSIM 0.3292 Total Loss 0.8004\n",
      "iter 70:\n",
      "Watermark 0.0000, Image 0.1094, Perp 0.3605, SSIM 0.3292 Total Loss 0.7990\n",
      "iter 71:\n",
      "Watermark 0.0000, Image 0.1093, Perp 0.3594, SSIM 0.3291 Total Loss 0.7978\n",
      "iter 72:\n",
      "Watermark 0.0000, Image 0.1093, Perp 0.3583, SSIM 0.3291 Total Loss 0.7967\n",
      "iter 73:\n",
      "Watermark 0.0000, Image 0.1093, Perp 0.3575, SSIM 0.3290 Total Loss 0.7958\n",
      "iter 74:\n",
      "Watermark 0.0000, Image 0.1093, Perp 0.3567, SSIM 0.3290 Total Loss 0.7950\n",
      "iter 75:\n",
      "Watermark 0.0000, Image 0.1093, Perp 0.3560, SSIM 0.3290 Total Loss 0.7943\n",
      "iter 76:\n",
      "Watermark 0.0000, Image 0.1092, Perp 0.3554, SSIM 0.3290 Total Loss 0.7936\n",
      "iter 77:\n",
      "Watermark 0.0000, Image 0.1092, Perp 0.3547, SSIM 0.3289 Total Loss 0.7928\n",
      "iter 78:\n",
      "Watermark 0.0000, Image 0.1091, Perp 0.3539, SSIM 0.3289 Total Loss 0.7919\n",
      "iter 79:\n",
      "Watermark 0.0000, Image 0.1091, Perp 0.3530, SSIM 0.3289 Total Loss 0.7909\n",
      "iter 80:\n",
      "Watermark 0.0000, Image 0.1090, Perp 0.3520, SSIM 0.3288 Total Loss 0.7898\n",
      "iter 81:\n",
      "Watermark 0.0000, Image 0.1090, Perp 0.3517, SSIM 0.3288 Total Loss 0.7894\n",
      "iter 82:\n",
      "Watermark 0.0000, Image 0.1090, Perp 0.3513, SSIM 0.3287 Total Loss 0.7890\n",
      "iter 83:\n",
      "Watermark 0.0000, Image 0.1089, Perp 0.3509, SSIM 0.3287 Total Loss 0.7886\n",
      "iter 84:\n",
      "Watermark 0.0000, Image 0.1089, Perp 0.3505, SSIM 0.3287 Total Loss 0.7881\n",
      "iter 85:\n",
      "Watermark 0.0000, Image 0.1089, Perp 0.3501, SSIM 0.3286 Total Loss 0.7875\n",
      "iter 86:\n",
      "Watermark 0.0000, Image 0.1088, Perp 0.3496, SSIM 0.3286 Total Loss 0.7870\n",
      "iter 87:\n",
      "Watermark 0.0000, Image 0.1088, Perp 0.3492, SSIM 0.3285 Total Loss 0.7865\n",
      "iter 88:\n",
      "Watermark 0.0000, Image 0.1087, Perp 0.3488, SSIM 0.3285 Total Loss 0.7860\n",
      "iter 89:\n",
      "Watermark 0.0000, Image 0.1087, Perp 0.3484, SSIM 0.3284 Total Loss 0.7855\n",
      "iter 90:\n",
      "Watermark 0.0000, Image 0.1087, Perp 0.3480, SSIM 0.3284 Total Loss 0.7850\n",
      "iter 91:\n",
      "Watermark 0.0000, Image 0.1086, Perp 0.3475, SSIM 0.3284 Total Loss 0.7845\n",
      "iter 92:\n",
      "Watermark 0.0000, Image 0.1086, Perp 0.3472, SSIM 0.3283 Total Loss 0.7841\n",
      "iter 93:\n",
      "Watermark 0.0000, Image 0.1086, Perp 0.3468, SSIM 0.3283 Total Loss 0.7836\n",
      "iter 94:\n",
      "Watermark 0.0000, Image 0.1085, Perp 0.3464, SSIM 0.3282 Total Loss 0.7832\n",
      "iter 95:\n",
      "Watermark 0.0000, Image 0.1085, Perp 0.3461, SSIM 0.3282 Total Loss 0.7828\n",
      "iter 96:\n",
      "Watermark 0.0000, Image 0.1085, Perp 0.3458, SSIM 0.3282 Total Loss 0.7824\n",
      "iter 97:\n",
      "Watermark 0.0000, Image 0.1084, Perp 0.3455, SSIM 0.3281 Total Loss 0.7820\n",
      "iter 98:\n",
      "Watermark 0.0000, Image 0.1084, Perp 0.3452, SSIM 0.3281 Total Loss 0.7817\n",
      "iter 99:\n",
      "Watermark 0.0000, Image 0.1084, Perp 0.3449, SSIM 0.3280 Total Loss 0.7813\n"
     ]
    }
   ],
   "source": [
    "# Step 3: train the init latents\n",
    "for i in range(cfgs['iters']):\n",
    "    logging.info(f'iter {i}:')\n",
    "    init_latents_wm = wm_pipe.inject_watermark(init_latents)\n",
    "    if cfgs['empty_prompt']:\n",
    "        pred_img_tensor = pipe('', guidance_scale=1.0, num_inference_steps=50, output_type='tensor', use_trainable_latents=True, init_latents=init_latents_wm).images\n",
    "    else:\n",
    "        pred_img_tensor = pipe(prompt, num_inference_steps=50, output_type='tensor', use_trainable_latents=True, init_latents=init_latents_wm).images\n",
    "    loss = totalLoss(pred_img_tensor, gt_img_tensor, init_latents_wm, wm_pipe)\n",
    "    \n",
    "    optimizer.zero_grad()\n",
    "    loss.backward()\n",
    "    optimizer.step()\n",
    "    scheduler.step()\n",
    "\n",
    "    loss_lst.append(loss.item())\n",
    "    # save watermarked image\n",
    "    if (i+1) in cfgs['save_iters']:\n",
    "        path = os.path.join(wm_path, f\"{imagename.split('.')[0]}_{i+1}.png\")\n",
    "        save_img(path, pred_img_tensor, pipe)\n",
    "torch.cuda.empty_cache()\n"
   ]
  },
  {
   "cell_type": "markdown",
   "id": "7564e5fd-d5a3-4de6-a979-f649a2ed0650",
   "metadata": {
    "tags": []
   },
   "source": [
    "## Postprocessing with Adaptive Enhancement"
   ]
  },
  {
   "cell_type": "code",
   "execution_count": 9,
   "id": "a54bb397-633d-49a1-bfda-72b45e5373f4",
   "metadata": {},
   "outputs": [],
   "source": [
    "# hyperparameter\n",
    "ssim_threshold = cfgs['ssim_threshold']\n"
   ]
  },
  {
   "cell_type": "code",
   "execution_count": 10,
   "id": "97ba93ce-f400-4290-bfb5-bde57c96b990",
   "metadata": {},
   "outputs": [
    {
     "name": "stderr",
     "output_type": "stream",
     "text": [
      "Original SSIM 0.6716011762619019\n"
     ]
    }
   ],
   "source": [
    "wm_img_path = os.path.join(wm_path, f\"{imagename.split('.')[0]}_{cfgs['save_iters'][-1]}.png\")\n",
    "wm_img_tensor = get_img_tensor(wm_img_path, device)\n",
    "ssim_value = ssim(wm_img_tensor, gt_img_tensor).item()\n",
    "logging.info(f'Original SSIM {ssim_value}')\n"
   ]
  },
  {
   "cell_type": "code",
   "execution_count": 11,
   "id": "f43ec672-fa83-4b4a-9333-3d356798fced",
   "metadata": {},
   "outputs": [
    {
     "name": "stderr",
     "output_type": "stream",
     "text": [
      "Optimal Theta 0.5625\n",
      "SSIM 0.9196765422821045, PSNR, 26.830630506233135, Detect Prob: 0.9999999986385045 after postprocessing\n"
     ]
    }
   ],
   "source": [
    "def binary_search_theta(threshold, lower=0., upper=1., precision=1e-6, max_iter=1000):\n",
    "    for i in range(max_iter):\n",
    "        mid_theta = (lower + upper) / 2\n",
    "        img_tensor = (gt_img_tensor-wm_img_tensor)*mid_theta+wm_img_tensor\n",
    "        ssim_value = ssim(img_tensor, gt_img_tensor).item()\n",
    "\n",
    "        if ssim_value <= threshold:\n",
    "            lower = mid_theta\n",
    "        else:\n",
    "            upper = mid_theta\n",
    "        if upper - lower < precision:\n",
    "            break\n",
    "    return lower\n",
    "\n",
    "optimal_theta = binary_search_theta(ssim_threshold, precision=0.01)\n",
    "logging.info(f'Optimal Theta {optimal_theta}')\n",
    "\n",
    "img_tensor = (gt_img_tensor-wm_img_tensor)*optimal_theta+wm_img_tensor\n",
    "\n",
    "ssim_value = ssim(img_tensor, gt_img_tensor).item()\n",
    "psnr_value = compute_psnr(img_tensor, gt_img_tensor)\n",
    "\n",
    "tester_prompt = '' \n",
    "text_embeddings = pipe.get_text_embedding(tester_prompt)\n",
    "det_prob = 1 - watermark_prob(img_tensor, pipe, wm_pipe, text_embeddings)\n",
    "\n",
    "path = os.path.join(wm_path, f\"{os.path.basename(wm_img_path).split('.')[0]}_SSIM{ssim_threshold}.png\")\n",
    "save_img(path, img_tensor, pipe)\n",
    "logging.info(f'SSIM {ssim_value}, PSNR, {psnr_value}, Detect Prob: {det_prob} after postprocessing')\n"
   ]
  },
  {
   "cell_type": "markdown",
   "id": "36b8b169-c1e9-437e-b3db-4a46887046a9",
   "metadata": {
    "tags": []
   },
   "source": [
    "## Attack Watermarked Image with Individual Attacks"
   ]
  },
  {
   "cell_type": "code",
   "execution_count": 14,
   "id": "7294ec83-97cc-4806-8404-a4fc07d83f81",
   "metadata": {
    "scrolled": true,
    "tags": []
   },
   "outputs": [
    {
     "name": "stderr",
     "output_type": "stream",
     "text": [
      "===== Init Attackers =====\n"
     ]
    },
    {
     "data": {
      "application/vnd.jupyter.widget-view+json": {
       "model_id": "ad59f289e92f4ea38cced785473b0da4",
       "version_major": 2,
       "version_minor": 0
      },
      "text/plain": [
       "Loading pipeline components...:   0%|          | 0/6 [00:00<?, ?it/s]"
      ]
     },
     "metadata": {},
     "output_type": "display_data"
    },
    {
     "name": "stdout",
     "output_type": "stream",
     "text": [
      "Diffuse attack initialized with noise step 60 and use prompt 0\n"
     ]
    },
    {
     "name": "stderr",
     "output_type": "stream",
     "text": [
      "Downloading: \"https://compressai.s3.amazonaws.com/models/v1/cheng2020-anchor-3-e49be189.pth.tar\" to /datadisk/zhengliwei/.cache/torch/hub/checkpoints/cheng2020-anchor-3-e49be189.pth.tar\n",
      "100%|██████████| 49.1M/49.1M [00:23<00:00, 2.23MB/s]\n",
      "Downloading: \"https://compressai.s3.amazonaws.com/models/v1/bmshj2018-factorized-prior-3-5c6f152b.pth.tar\" to /datadisk/zhengliwei/.cache/torch/hub/checkpoints/bmshj2018-factorized-prior-3-5c6f152b.pth.tar\n",
      "100%|██████████| 11.6M/11.6M [00:09<00:00, 1.33MB/s]\n"
     ]
    }
   ],
   "source": [
    "from main.wmattacker import *\n",
    "from main.attdiffusion import ReSDPipeline\n",
    "\n",
    "logging.info(f'===== Init Attackers =====')\n",
    "att_pipe = ReSDPipeline.from_pretrained(\"./stable-diffusion-2-1-base\", torch_dtype=torch.float16, revision=\"fp16\")\n",
    "att_pipe.set_progress_bar_config(disable=True)\n",
    "att_pipe.to(device)\n",
    "\n",
    "attackers = {\n",
    "    'diff_attacker_60': DiffWMAttacker(att_pipe, batch_size=5, noise_step=60, captions={}),\n",
    "    'cheng2020-anchor_3': VAEWMAttacker('cheng2020-anchor', quality=3, metric='mse', device=device),\n",
    "    'bmshj2018-factorized_3': VAEWMAttacker('bmshj2018-factorized', quality=3, metric='mse', device=device),\n",
    "    'jpeg_attacker_50': JPEGAttacker(quality=50),\n",
    "    'rotate_90': RotateAttacker(degree=90),\n",
    "    'brightness_0.5': BrightnessAttacker(brightness=0.5),\n",
    "    'contrast_0.5': ContrastAttacker(contrast=0.5),\n",
    "    'Gaussian_noise': GaussianNoiseAttacker(std=0.05),\n",
    "    'Gaussian_blur': GaussianBlurAttacker(kernel_size=5, sigma=1),\n",
    "    'bm3d': BM3DAttacker(),\n",
    "}\n"
   ]
  },
  {
   "cell_type": "code",
   "execution_count": 15,
   "id": "051f3d2d-6946-4806-b0d8-6363d15c8fec",
   "metadata": {
    "scrolled": true,
    "tags": []
   },
   "outputs": [
    {
     "name": "stderr",
     "output_type": "stream",
     "text": [
      "===== Start Attacking... =====\n"
     ]
    },
    {
     "name": "stdout",
     "output_type": "stream",
     "text": [
      "Attacking with diff_attacker_60\n"
     ]
    },
    {
     "data": {
      "application/vnd.jupyter.widget-view+json": {
       "model_id": "96bba6d2d55a49aaab258948d2c459a1",
       "version_major": 2,
       "version_minor": 0
      },
      "text/plain": [
       "0it [00:00, ?it/s]"
      ]
     },
     "metadata": {},
     "output_type": "display_data"
    },
    {
     "name": "stderr",
     "output_type": "stream",
     "text": [
      "/datadisk/zhengliwei/.conda/envs/zodiac_zlw/lib/python3.10/site-packages/diffusers/pipelines/stable_diffusion/pipeline_stable_diffusion.py:237: FutureWarning: `_encode_prompt()` is deprecated and it will be removed in a future version. Use `encode_prompt()` instead. Also, be aware that the output format changed from a concatenated tensor to a tuple.\n",
      "  deprecate(\"_encode_prompt()\", \"1.0.0\", deprecation_message, standard_warn=False)\n"
     ]
    },
    {
     "name": "stdout",
     "output_type": "stream",
     "text": [
      "Attacking with cheng2020-anchor_3\n"
     ]
    },
    {
     "name": "stderr",
     "output_type": "stream",
     "text": [
      "/datadisk/zhengliwei/.conda/envs/zodiac_zlw/lib/python3.10/site-packages/diffusers/pipelines/stable_diffusion/pipeline_stable_diffusion.py:430: FutureWarning: The decode_latents method is deprecated and will be removed in 1.0.0. Please use VaeImageProcessor.postprocess(...) instead\n",
      "  deprecate(\"decode_latents\", \"1.0.0\", deprecation_message, standard_warn=False)\n"
     ]
    },
    {
     "data": {
      "application/vnd.jupyter.widget-view+json": {
       "model_id": "11a6df056e184e039c748db0eae12800",
       "version_major": 2,
       "version_minor": 0
      },
      "text/plain": [
       "0it [00:00, ?it/s]"
      ]
     },
     "metadata": {},
     "output_type": "display_data"
    },
    {
     "name": "stdout",
     "output_type": "stream",
     "text": [
      "Attacking with bmshj2018-factorized_3\n"
     ]
    },
    {
     "data": {
      "application/vnd.jupyter.widget-view+json": {
       "model_id": "8badce1424644003bc5f5b27521fc626",
       "version_major": 2,
       "version_minor": 0
      },
      "text/plain": [
       "0it [00:00, ?it/s]"
      ]
     },
     "metadata": {},
     "output_type": "display_data"
    },
    {
     "name": "stdout",
     "output_type": "stream",
     "text": [
      "Attacking with jpeg_attacker_50\n"
     ]
    },
    {
     "data": {
      "application/vnd.jupyter.widget-view+json": {
       "model_id": "345ca0c6b28a46e69579baa70422a0b1",
       "version_major": 2,
       "version_minor": 0
      },
      "text/plain": [
       "0it [00:00, ?it/s]"
      ]
     },
     "metadata": {},
     "output_type": "display_data"
    },
    {
     "name": "stdout",
     "output_type": "stream",
     "text": [
      "Attacking with rotate_90\n"
     ]
    },
    {
     "data": {
      "application/vnd.jupyter.widget-view+json": {
       "model_id": "d840c6eca8224bd396948b9320845f39",
       "version_major": 2,
       "version_minor": 0
      },
      "text/plain": [
       "0it [00:00, ?it/s]"
      ]
     },
     "metadata": {},
     "output_type": "display_data"
    },
    {
     "name": "stdout",
     "output_type": "stream",
     "text": [
      "Attacking with brightness_0.5\n"
     ]
    },
    {
     "data": {
      "application/vnd.jupyter.widget-view+json": {
       "model_id": "2aaf34eccec54d36bc16eb74998ed4b8",
       "version_major": 2,
       "version_minor": 0
      },
      "text/plain": [
       "0it [00:00, ?it/s]"
      ]
     },
     "metadata": {},
     "output_type": "display_data"
    },
    {
     "name": "stdout",
     "output_type": "stream",
     "text": [
      "Attacking with contrast_0.5\n"
     ]
    },
    {
     "data": {
      "application/vnd.jupyter.widget-view+json": {
       "model_id": "8f2d809196d548f7a4ef091bd1e200c3",
       "version_major": 2,
       "version_minor": 0
      },
      "text/plain": [
       "0it [00:00, ?it/s]"
      ]
     },
     "metadata": {},
     "output_type": "display_data"
    },
    {
     "name": "stdout",
     "output_type": "stream",
     "text": [
      "Attacking with Gaussian_noise\n"
     ]
    },
    {
     "data": {
      "application/vnd.jupyter.widget-view+json": {
       "model_id": "21d368cf46f14790bcaf13bcbf204293",
       "version_major": 2,
       "version_minor": 0
      },
      "text/plain": [
       "0it [00:00, ?it/s]"
      ]
     },
     "metadata": {},
     "output_type": "display_data"
    },
    {
     "name": "stdout",
     "output_type": "stream",
     "text": [
      "Attacking with Gaussian_blur\n"
     ]
    },
    {
     "data": {
      "application/vnd.jupyter.widget-view+json": {
       "model_id": "14d35a553f354599b6b3e9743ca926bd",
       "version_major": 2,
       "version_minor": 0
      },
      "text/plain": [
       "0it [00:00, ?it/s]"
      ]
     },
     "metadata": {},
     "output_type": "display_data"
    },
    {
     "name": "stdout",
     "output_type": "stream",
     "text": [
      "Attacking with bm3d\n"
     ]
    },
    {
     "data": {
      "application/vnd.jupyter.widget-view+json": {
       "model_id": "8b48073419fb45b2a5cb2b5de0f54af5",
       "version_major": 2,
       "version_minor": 0
      },
      "text/plain": [
       "0it [00:00, ?it/s]"
      ]
     },
     "metadata": {},
     "output_type": "display_data"
    }
   ],
   "source": [
    "logging.info(f'===== Start Attacking... =====')\n",
    "\n",
    "post_img = os.path.join(wm_path, f\"{imagename.split('.')[0]}_{cfgs['save_iters'][-1]}_SSIM{ssim_threshold}.png\")\n",
    "for attacker_name, attacker in attackers.items():\n",
    "    print(f'Attacking with {attacker_name}')\n",
    "    os.makedirs(os.path.join(wm_path, attacker_name), exist_ok=True)\n",
    "    att_img_path = os.path.join(wm_path, attacker_name, os.path.basename(post_img))\n",
    "    attackers[attacker_name].attack([post_img], [att_img_path])\n"
   ]
  },
  {
   "cell_type": "markdown",
   "id": "f6a2b6fa-6b19-4918-a141-8a5b9d112f0a",
   "metadata": {
    "tags": []
   },
   "source": [
    "## Attack Watermarked Image with Combined Attacks"
   ]
  },
  {
   "cell_type": "code",
   "execution_count": 17,
   "id": "4b5ddabd-1d5f-4541-acc2-d42c2e3c5487",
   "metadata": {
    "tags": []
   },
   "outputs": [
    {
     "name": "stderr",
     "output_type": "stream",
     "text": [
      "===== Init Attackers =====\n"
     ]
    },
    {
     "data": {
      "application/vnd.jupyter.widget-view+json": {
       "model_id": "f7f125850117463e803ce9e120441206",
       "version_major": 2,
       "version_minor": 0
      },
      "text/plain": [
       "Loading pipeline components...:   0%|          | 0/6 [00:00<?, ?it/s]"
      ]
     },
     "metadata": {},
     "output_type": "display_data"
    },
    {
     "data": {
      "text/plain": [
       "ReSDPipeline {\n",
       "  \"_class_name\": \"ReSDPipeline\",\n",
       "  \"_diffusers_version\": \"0.21.4\",\n",
       "  \"_name_or_path\": \"./stable-diffusion-2-1-base\",\n",
       "  \"feature_extractor\": [\n",
       "    \"transformers\",\n",
       "    \"CLIPImageProcessor\"\n",
       "  ],\n",
       "  \"requires_safety_checker\": false,\n",
       "  \"safety_checker\": [\n",
       "    null,\n",
       "    null\n",
       "  ],\n",
       "  \"scheduler\": [\n",
       "    \"diffusers\",\n",
       "    \"PNDMScheduler\"\n",
       "  ],\n",
       "  \"text_encoder\": [\n",
       "    \"transformers\",\n",
       "    \"CLIPTextModel\"\n",
       "  ],\n",
       "  \"tokenizer\": [\n",
       "    \"transformers\",\n",
       "    \"CLIPTokenizer\"\n",
       "  ],\n",
       "  \"unet\": [\n",
       "    \"diffusers\",\n",
       "    \"UNet2DConditionModel\"\n",
       "  ],\n",
       "  \"vae\": [\n",
       "    \"diffusers\",\n",
       "    \"AutoencoderKL\"\n",
       "  ]\n",
       "}"
      ]
     },
     "execution_count": 17,
     "metadata": {},
     "output_type": "execute_result"
    }
   ],
   "source": [
    "from main.wmattacker import *\n",
    "from main.attdiffusion import ReSDPipeline\n",
    "\n",
    "case_list = ['w/ rot', 'w/o rot']\n",
    "\n",
    "logging.info(f'===== Init Attackers =====')\n",
    "att_pipe = ReSDPipeline.from_pretrained(\"./stable-diffusion-2-1-base\", torch_dtype=torch.float16, revision=\"fp16\")\n",
    "att_pipe.set_progress_bar_config(disable=True)\n",
    "att_pipe.to(device)\n"
   ]
  },
  {
   "cell_type": "code",
   "execution_count": 18,
   "id": "fb550932-cb3d-46fc-8174-c5ec2b69e447",
   "metadata": {
    "scrolled": true,
    "tags": []
   },
   "outputs": [
    {
     "name": "stdout",
     "output_type": "stream",
     "text": [
      "Case: w/ rot\n",
      "Diffuse attack initialized with noise step 60 and use prompt 0\n",
      "Attacking with diff_attacker_60\n"
     ]
    },
    {
     "data": {
      "application/vnd.jupyter.widget-view+json": {
       "model_id": "78908f23994842558399e5ea5be10866",
       "version_major": 2,
       "version_minor": 0
      },
      "text/plain": [
       "0it [00:00, ?it/s]"
      ]
     },
     "metadata": {},
     "output_type": "display_data"
    },
    {
     "name": "stderr",
     "output_type": "stream",
     "text": [
      "/datadisk/zhengliwei/.conda/envs/zodiac_zlw/lib/python3.10/site-packages/diffusers/pipelines/stable_diffusion/pipeline_stable_diffusion.py:237: FutureWarning: `_encode_prompt()` is deprecated and it will be removed in a future version. Use `encode_prompt()` instead. Also, be aware that the output format changed from a concatenated tensor to a tuple.\n",
      "  deprecate(\"_encode_prompt()\", \"1.0.0\", deprecation_message, standard_warn=False)\n",
      "/datadisk/zhengliwei/.conda/envs/zodiac_zlw/lib/python3.10/site-packages/diffusers/pipelines/stable_diffusion/pipeline_stable_diffusion.py:430: FutureWarning: The decode_latents method is deprecated and will be removed in 1.0.0. Please use VaeImageProcessor.postprocess(...) instead\n",
      "  deprecate(\"decode_latents\", \"1.0.0\", deprecation_message, standard_warn=False)\n"
     ]
    },
    {
     "name": "stdout",
     "output_type": "stream",
     "text": [
      "Attacking with cheng2020-anchor_3\n"
     ]
    },
    {
     "data": {
      "application/vnd.jupyter.widget-view+json": {
       "model_id": "ad754dbc545247c28b8a9d97900750ee",
       "version_major": 2,
       "version_minor": 0
      },
      "text/plain": [
       "0it [00:00, ?it/s]"
      ]
     },
     "metadata": {},
     "output_type": "display_data"
    },
    {
     "name": "stdout",
     "output_type": "stream",
     "text": [
      "Attacking with bmshj2018-factorized_3\n"
     ]
    },
    {
     "data": {
      "application/vnd.jupyter.widget-view+json": {
       "model_id": "f1bdf392865c43d29102f37464c1df0b",
       "version_major": 2,
       "version_minor": 0
      },
      "text/plain": [
       "0it [00:00, ?it/s]"
      ]
     },
     "metadata": {},
     "output_type": "display_data"
    },
    {
     "name": "stdout",
     "output_type": "stream",
     "text": [
      "Attacking with jpeg_attacker_50\n"
     ]
    },
    {
     "data": {
      "application/vnd.jupyter.widget-view+json": {
       "model_id": "9d96096446644786a83767bd3d140126",
       "version_major": 2,
       "version_minor": 0
      },
      "text/plain": [
       "0it [00:00, ?it/s]"
      ]
     },
     "metadata": {},
     "output_type": "display_data"
    },
    {
     "name": "stdout",
     "output_type": "stream",
     "text": [
      "Attacking with rotate_90\n"
     ]
    },
    {
     "data": {
      "application/vnd.jupyter.widget-view+json": {
       "model_id": "d144192eb7d54b7988f8a25da5183af8",
       "version_major": 2,
       "version_minor": 0
      },
      "text/plain": [
       "0it [00:00, ?it/s]"
      ]
     },
     "metadata": {},
     "output_type": "display_data"
    },
    {
     "name": "stdout",
     "output_type": "stream",
     "text": [
      "Attacking with brightness_0.5\n"
     ]
    },
    {
     "data": {
      "application/vnd.jupyter.widget-view+json": {
       "model_id": "a7a7097606aa4bbb848a2e19116dfbdd",
       "version_major": 2,
       "version_minor": 0
      },
      "text/plain": [
       "0it [00:00, ?it/s]"
      ]
     },
     "metadata": {},
     "output_type": "display_data"
    },
    {
     "name": "stdout",
     "output_type": "stream",
     "text": [
      "Attacking with contrast_0.5\n"
     ]
    },
    {
     "data": {
      "application/vnd.jupyter.widget-view+json": {
       "model_id": "d40de56037e94901a1e07304e5352697",
       "version_major": 2,
       "version_minor": 0
      },
      "text/plain": [
       "0it [00:00, ?it/s]"
      ]
     },
     "metadata": {},
     "output_type": "display_data"
    },
    {
     "name": "stdout",
     "output_type": "stream",
     "text": [
      "Attacking with Gaussian_noise\n"
     ]
    },
    {
     "data": {
      "application/vnd.jupyter.widget-view+json": {
       "model_id": "58baa4db4c0b4a98ae7e6b350b998cae",
       "version_major": 2,
       "version_minor": 0
      },
      "text/plain": [
       "0it [00:00, ?it/s]"
      ]
     },
     "metadata": {},
     "output_type": "display_data"
    },
    {
     "name": "stdout",
     "output_type": "stream",
     "text": [
      "Attacking with Gaussian_blur\n"
     ]
    },
    {
     "data": {
      "application/vnd.jupyter.widget-view+json": {
       "model_id": "1e0addc14a2a4a79b7ec9556387f9205",
       "version_major": 2,
       "version_minor": 0
      },
      "text/plain": [
       "0it [00:00, ?it/s]"
      ]
     },
     "metadata": {},
     "output_type": "display_data"
    },
    {
     "name": "stdout",
     "output_type": "stream",
     "text": [
      "Attacking with bm3d\n"
     ]
    },
    {
     "data": {
      "application/vnd.jupyter.widget-view+json": {
       "model_id": "bee735f5947d4ec9a5891c0aae8d24ca",
       "version_major": 2,
       "version_minor": 0
      },
      "text/plain": [
       "0it [00:00, ?it/s]"
      ]
     },
     "metadata": {},
     "output_type": "display_data"
    },
    {
     "name": "stdout",
     "output_type": "stream",
     "text": [
      "Case: w/o rot\n",
      "Diffuse attack initialized with noise step 60 and use prompt 0\n",
      "Attacking with diff_attacker_60\n"
     ]
    },
    {
     "data": {
      "application/vnd.jupyter.widget-view+json": {
       "model_id": "9bd003d98002491fb6790507c9d4b513",
       "version_major": 2,
       "version_minor": 0
      },
      "text/plain": [
       "0it [00:00, ?it/s]"
      ]
     },
     "metadata": {},
     "output_type": "display_data"
    },
    {
     "name": "stdout",
     "output_type": "stream",
     "text": [
      "Attacking with cheng2020-anchor_3\n"
     ]
    },
    {
     "data": {
      "application/vnd.jupyter.widget-view+json": {
       "model_id": "6c64a3079f1642829dbd8a108db12eae",
       "version_major": 2,
       "version_minor": 0
      },
      "text/plain": [
       "0it [00:00, ?it/s]"
      ]
     },
     "metadata": {},
     "output_type": "display_data"
    },
    {
     "name": "stdout",
     "output_type": "stream",
     "text": [
      "Attacking with bmshj2018-factorized_3\n"
     ]
    },
    {
     "data": {
      "application/vnd.jupyter.widget-view+json": {
       "model_id": "e446d237750b4f10afaa23859213aee5",
       "version_major": 2,
       "version_minor": 0
      },
      "text/plain": [
       "0it [00:00, ?it/s]"
      ]
     },
     "metadata": {},
     "output_type": "display_data"
    },
    {
     "name": "stdout",
     "output_type": "stream",
     "text": [
      "Attacking with jpeg_attacker_50\n"
     ]
    },
    {
     "data": {
      "application/vnd.jupyter.widget-view+json": {
       "model_id": "aac886c2bdf04a88b9a1958d633d1a59",
       "version_major": 2,
       "version_minor": 0
      },
      "text/plain": [
       "0it [00:00, ?it/s]"
      ]
     },
     "metadata": {},
     "output_type": "display_data"
    },
    {
     "name": "stdout",
     "output_type": "stream",
     "text": [
      "Attacking with brightness_0.5\n"
     ]
    },
    {
     "data": {
      "application/vnd.jupyter.widget-view+json": {
       "model_id": "739dff50e9584133b4488071f696155b",
       "version_major": 2,
       "version_minor": 0
      },
      "text/plain": [
       "0it [00:00, ?it/s]"
      ]
     },
     "metadata": {},
     "output_type": "display_data"
    },
    {
     "name": "stdout",
     "output_type": "stream",
     "text": [
      "Attacking with contrast_0.5\n"
     ]
    },
    {
     "data": {
      "application/vnd.jupyter.widget-view+json": {
       "model_id": "b93039a3d5f94568911187419b9a5a56",
       "version_major": 2,
       "version_minor": 0
      },
      "text/plain": [
       "0it [00:00, ?it/s]"
      ]
     },
     "metadata": {},
     "output_type": "display_data"
    },
    {
     "name": "stdout",
     "output_type": "stream",
     "text": [
      "Attacking with Gaussian_noise\n"
     ]
    },
    {
     "data": {
      "application/vnd.jupyter.widget-view+json": {
       "model_id": "9be241d36a3e42b3a59f75a316f9af75",
       "version_major": 2,
       "version_minor": 0
      },
      "text/plain": [
       "0it [00:00, ?it/s]"
      ]
     },
     "metadata": {},
     "output_type": "display_data"
    },
    {
     "name": "stdout",
     "output_type": "stream",
     "text": [
      "Attacking with Gaussian_blur\n"
     ]
    },
    {
     "data": {
      "application/vnd.jupyter.widget-view+json": {
       "model_id": "368a523d1fa244deba6262bbc20c1dd2",
       "version_major": 2,
       "version_minor": 0
      },
      "text/plain": [
       "0it [00:00, ?it/s]"
      ]
     },
     "metadata": {},
     "output_type": "display_data"
    },
    {
     "name": "stdout",
     "output_type": "stream",
     "text": [
      "Attacking with bm3d\n"
     ]
    },
    {
     "data": {
      "application/vnd.jupyter.widget-view+json": {
       "model_id": "d37f52282d9149ca873f0aba5e454cca",
       "version_major": 2,
       "version_minor": 0
      },
      "text/plain": [
       "0it [00:00, ?it/s]"
      ]
     },
     "metadata": {},
     "output_type": "display_data"
    }
   ],
   "source": [
    "post_img = os.path.join(wm_path, f\"{imagename.split('.')[0]}_{cfgs['save_iters'][-1]}_SSIM{ssim_threshold}.png\")\n",
    "\n",
    "for case in case_list:\n",
    "    print(f'Case: {case}')\n",
    "    if case == 'w/ rot':\n",
    "        attackers = {\n",
    "        'diff_attacker_60': DiffWMAttacker(att_pipe, batch_size=5, noise_step=60, captions={}),\n",
    "        'cheng2020-anchor_3': VAEWMAttacker('cheng2020-anchor', quality=3, metric='mse', device=device),\n",
    "        'bmshj2018-factorized_3': VAEWMAttacker('bmshj2018-factorized', quality=3, metric='mse', device=device),\n",
    "        'jpeg_attacker_50': JPEGAttacker(quality=50),\n",
    "        'rotate_90': RotateAttacker(degree=90),\n",
    "        'brightness_0.5': BrightnessAttacker(brightness=0.5),\n",
    "        'contrast_0.5': ContrastAttacker(contrast=0.5),\n",
    "        'Gaussian_noise': GaussianNoiseAttacker(std=0.05),\n",
    "        'Gaussian_blur': GaussianBlurAttacker(kernel_size=5, sigma=1),\n",
    "        'bm3d': BM3DAttacker(),\n",
    "        }\n",
    "        multi_name = 'all'\n",
    "    elif case == 'w/o rot':\n",
    "        attackers = {\n",
    "        'diff_attacker_60': DiffWMAttacker(att_pipe, batch_size=5, noise_step=60, captions={}),\n",
    "        'cheng2020-anchor_3': VAEWMAttacker('cheng2020-anchor', quality=3, metric='mse', device=device),\n",
    "        'bmshj2018-factorized_3': VAEWMAttacker('bmshj2018-factorized', quality=3, metric='mse', device=device),\n",
    "        'jpeg_attacker_50': JPEGAttacker(quality=50),\n",
    "        'brightness_0.5': BrightnessAttacker(brightness=0.5),\n",
    "        'contrast_0.5': ContrastAttacker(contrast=0.5),\n",
    "        'Gaussian_noise': GaussianNoiseAttacker(std=0.05),\n",
    "        'Gaussian_blur': GaussianBlurAttacker(kernel_size=5, sigma=1),\n",
    "        'bm3d': BM3DAttacker(),\n",
    "        }\n",
    "        multi_name = 'all_norot'\n",
    "        \n",
    "    \n",
    "    os.makedirs(os.path.join(wm_path, multi_name), exist_ok=True)\n",
    "    att_img_path = os.path.join(wm_path, multi_name, os.path.basename(post_img))\n",
    "    for i, (attacker_name, attacker) in enumerate(attackers.items()):\n",
    "        print(f'Attacking with {attacker_name}')\n",
    "        if i == 0:\n",
    "            attackers[attacker_name].attack([post_img], [att_img_path], multi=True)\n",
    "        else:\n",
    "            attackers[attacker_name].attack([att_img_path], [att_img_path], multi=True)\n"
   ]
  },
  {
   "cell_type": "markdown",
   "id": "08da6ebe-ab6b-4ea0-9d55-006ace7bd4fd",
   "metadata": {},
   "source": [
    "## Detect Watermark"
   ]
  },
  {
   "cell_type": "code",
   "execution_count": 19,
   "id": "1f6064ad-8922-45f2-918d-8fc6157a5774",
   "metadata": {},
   "outputs": [],
   "source": [
    "post_img = os.path.join(wm_path, f\"{imagename.split('.')[0]}_{cfgs['save_iters'][-1]}_SSIM{ssim_threshold}.png\")\n",
    "\n",
    "attackers = ['diff_attacker_60', 'cheng2020-anchor_3', 'bmshj2018-factorized_3', 'jpeg_attacker_50', \n",
    "             'brightness_0.5', 'contrast_0.5', 'Gaussian_noise', 'Gaussian_blur', 'rotate_90', 'bm3d', \n",
    "             'all', 'all_norot']\n",
    "\n",
    "tester_prompt = '' # assume at the detection time, the original prompt is unknown\n",
    "text_embeddings = pipe.get_text_embedding(tester_prompt)\n"
   ]
  },
  {
   "cell_type": "code",
   "execution_count": 20,
   "id": "4018ca81-ba9a-46d0-bad1-921132265b83",
   "metadata": {},
   "outputs": [
    {
     "name": "stderr",
     "output_type": "stream",
     "text": [
      "===== Testing the Watermarked Images ./example/output/pepper_100_SSIM0.92.png =====\n",
      "Watermark Presence Prob.: 0.9999999980999523\n"
     ]
    }
   ],
   "source": [
    "logging.info(f'===== Testing the Watermarked Images {post_img} =====')\n",
    "det_prob = 1 - watermark_prob(post_img, pipe, wm_pipe, text_embeddings)\n",
    "logging.info(f'Watermark Presence Prob.: {det_prob}')\n"
   ]
  },
  {
   "cell_type": "code",
   "execution_count": null,
   "id": "5edeed73-b921-46b4-8bca-aeb436fdc843",
   "metadata": {},
   "outputs": [
    {
     "name": "stderr",
     "output_type": "stream",
     "text": [
      "===== Testing the Attacked Watermarked Images =====\n",
      "=== Attacker Name: diff_attacker_60 ===\n",
      "=== Attacker Name: diff_attacker_60 ===\n",
      "Watermark Presence Prob.: 0.9995888360898257\n",
      "=== Attacker Name: cheng2020-anchor_3 ===\n",
      "Watermark Presence Prob.: 0.999940956111059\n",
      "=== Attacker Name: bmshj2018-factorized_3 ===\n",
      "Watermark Presence Prob.: 0.9999778829148944\n",
      "=== Attacker Name: jpeg_attacker_50 ===\n",
      "Watermark Presence Prob.: 0.9999994719005899\n",
      "=== Attacker Name: brightness_0.5 ===\n",
      "Watermark Presence Prob.: 0.9999998782661117\n",
      "=== Attacker Name: contrast_0.5 ===\n",
      "Watermark Presence Prob.: 0.9999999960161329\n",
      "=== Attacker Name: Gaussian_noise ===\n",
      "Watermark Presence Prob.: 0.9999987806944308\n",
      "=== Attacker Name: Gaussian_blur ===\n",
      "Watermark Presence Prob.: 0.9999999540663375\n",
      "=== Attacker Name: rotate_90 ===\n",
      "Watermark Presence Prob.: 0.9644792764988827\n",
      "=== Attacker Name: bm3d ===\n",
      "Watermark Presence Prob.: 0.99999946673016\n",
      "=== Attacker Name: all ===\n",
      "Watermark Presence Prob.: 0.6493601946610643\n",
      "=== Attacker Name: all_norot ===\n",
      "Watermark Presence Prob.: 0.9820896232102783\n"
     ]
    }
   ],
   "source": [
    "logging.info(f'===== Testing the Attacked Watermarked Images =====')\n",
    "for attacker_name in attackers:\n",
    "    if not os.path.exists(os.path.join(wm_path, attacker_name)):\n",
    "        logging.info(f'Attacked images under {attacker_name} not exist.')\n",
    "        continue\n",
    "        \n",
    "    logging.info(f'=== Attacker Name: {attacker_name} ===')\n",
    "    det_prob = 1 - watermark_prob(os.path.join(wm_path, attacker_name, os.path.basename(post_img)), pipe, wm_pipe, text_embeddings)\n",
    "    logging.info(f'Watermark Presence Prob.: {det_prob}')\n"
   ]
  },
  {
   "cell_type": "code",
   "execution_count": null,
   "id": "d8263039",
   "metadata": {},
   "outputs": [],
   "source": []
  }
 ],
 "metadata": {
  "kernelspec": {
   "display_name": "zodiac_zlw",
   "language": "python",
   "name": "python3"
  },
  "language_info": {
   "codemirror_mode": {
    "name": "ipython",
    "version": 3
   },
   "file_extension": ".py",
   "mimetype": "text/x-python",
   "name": "python",
   "nbconvert_exporter": "python",
   "pygments_lexer": "ipython3",
   "version": "3.10.13"
  }
 },
 "nbformat": 4,
 "nbformat_minor": 5
}
